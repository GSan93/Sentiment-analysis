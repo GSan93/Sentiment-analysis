{
  "nbformat": 4,
  "nbformat_minor": 0,
  "metadata": {
    "kernelspec": {
      "display_name": "Python 3",
      "language": "python",
      "name": "python3"
    },
    "language_info": {
      "codemirror_mode": {
        "name": "ipython",
        "version": 3
      },
      "file_extension": ".py",
      "mimetype": "text/x-python",
      "name": "python",
      "nbconvert_exporter": "python",
      "pygments_lexer": "ipython3",
      "version": "3.6.5"
    },
    "colab": {
      "name": "MDS_project.ipynb",
      "provenance": []
    }
  },
  "cells": [
    {
      "cell_type": "code",
      "metadata": {
        "id": "15EyAw2wBcUe",
        "colab_type": "code",
        "colab": {}
      },
      "source": [
        "import pandas as pd\n",
        "import numpy as np\n",
        "import sklearn\n",
        "import nltk"
      ],
      "execution_count": 0,
      "outputs": []
    },
    {
      "cell_type": "code",
      "metadata": {
        "id": "1QNDcFZGBcUq",
        "colab_type": "code",
        "colab": {},
        "outputId": "d8db6264-0a63-45c3-86af-1e741b0862d0"
      },
      "source": [
        "train_data = pd.read_csv(\"train.txt\",sep='\\t')\n",
        "train_data.head()\n",
        "train_data['single'] = train_data['turn1']+\" \"+train_data['turn2']+\" \"+train_data['turn3']\n",
        "def drop_features(features,data):\n",
        "    data.drop(features,inplace=True,axis=1)\n",
        "# drop_features(['id','turn1','turn2','turn3'],train_data)\n",
        "train_data.head()"
      ],
      "execution_count": 0,
      "outputs": [
        {
          "output_type": "execute_result",
          "data": {
            "text/html": [
              "<div>\n",
              "<style scoped>\n",
              "    .dataframe tbody tr th:only-of-type {\n",
              "        vertical-align: middle;\n",
              "    }\n",
              "\n",
              "    .dataframe tbody tr th {\n",
              "        vertical-align: top;\n",
              "    }\n",
              "\n",
              "    .dataframe thead th {\n",
              "        text-align: right;\n",
              "    }\n",
              "</style>\n",
              "<table border=\"1\" class=\"dataframe\">\n",
              "  <thead>\n",
              "    <tr style=\"text-align: right;\">\n",
              "      <th></th>\n",
              "      <th>id</th>\n",
              "      <th>turn1</th>\n",
              "      <th>turn2</th>\n",
              "      <th>turn3</th>\n",
              "      <th>label</th>\n",
              "      <th>single</th>\n",
              "    </tr>\n",
              "  </thead>\n",
              "  <tbody>\n",
              "    <tr>\n",
              "      <th>0</th>\n",
              "      <td>0</td>\n",
              "      <td>Don't worry  I'm girl</td>\n",
              "      <td>hmm how do I know if you are</td>\n",
              "      <td>What's ur name?</td>\n",
              "      <td>others</td>\n",
              "      <td>Don't worry  I'm girl hmm how do I know if you...</td>\n",
              "    </tr>\n",
              "    <tr>\n",
              "      <th>1</th>\n",
              "      <td>1</td>\n",
              "      <td>When did I?</td>\n",
              "      <td>saw many times i think -_-</td>\n",
              "      <td>No. I never saw you</td>\n",
              "      <td>angry</td>\n",
              "      <td>When did I? saw many times i think -_- No. I n...</td>\n",
              "    </tr>\n",
              "    <tr>\n",
              "      <th>2</th>\n",
              "      <td>2</td>\n",
              "      <td>By</td>\n",
              "      <td>by Google Chrome</td>\n",
              "      <td>Where you live</td>\n",
              "      <td>others</td>\n",
              "      <td>By by Google Chrome Where you live</td>\n",
              "    </tr>\n",
              "    <tr>\n",
              "      <th>3</th>\n",
              "      <td>3</td>\n",
              "      <td>U r ridiculous</td>\n",
              "      <td>I might be ridiculous but I am telling the truth.</td>\n",
              "      <td>U little disgusting whore</td>\n",
              "      <td>angry</td>\n",
              "      <td>U r ridiculous I might be ridiculous but I am ...</td>\n",
              "    </tr>\n",
              "    <tr>\n",
              "      <th>4</th>\n",
              "      <td>4</td>\n",
              "      <td>Just for time pass</td>\n",
              "      <td>wt do u do 4 a living then</td>\n",
              "      <td>Maybe</td>\n",
              "      <td>others</td>\n",
              "      <td>Just for time pass wt do u do 4 a living then ...</td>\n",
              "    </tr>\n",
              "  </tbody>\n",
              "</table>\n",
              "</div>"
            ],
            "text/plain": [
              "   id                  turn1  \\\n",
              "0   0  Don't worry  I'm girl   \n",
              "1   1            When did I?   \n",
              "2   2                     By   \n",
              "3   3         U r ridiculous   \n",
              "4   4     Just for time pass   \n",
              "\n",
              "                                               turn2  \\\n",
              "0                       hmm how do I know if you are   \n",
              "1                         saw many times i think -_-   \n",
              "2                                   by Google Chrome   \n",
              "3  I might be ridiculous but I am telling the truth.   \n",
              "4                         wt do u do 4 a living then   \n",
              "\n",
              "                       turn3   label  \\\n",
              "0            What's ur name?  others   \n",
              "1        No. I never saw you   angry   \n",
              "2             Where you live  others   \n",
              "3  U little disgusting whore   angry   \n",
              "4                      Maybe  others   \n",
              "\n",
              "                                              single  \n",
              "0  Don't worry  I'm girl hmm how do I know if you...  \n",
              "1  When did I? saw many times i think -_- No. I n...  \n",
              "2                 By by Google Chrome Where you live  \n",
              "3  U r ridiculous I might be ridiculous but I am ...  \n",
              "4  Just for time pass wt do u do 4 a living then ...  "
            ]
          },
          "metadata": {
            "tags": []
          },
          "execution_count": 87
        }
      ]
    },
    {
      "cell_type": "code",
      "metadata": {
        "id": "gB5EB_AEBcUz",
        "colab_type": "code",
        "colab": {}
      },
      "source": [
        "from sklearn.model_selection import train_test_split\n",
        "\n",
        "x_train,x_test, y_train, y_test = train_test_split(train_data[\"single\"],train_data[\"label\"], test_size = 0.2, random_state = 40) "
      ],
      "execution_count": 0,
      "outputs": []
    },
    {
      "cell_type": "code",
      "metadata": {
        "id": "ZGTSxJhEBcU5",
        "colab_type": "code",
        "colab": {}
      },
      "source": [
        "from sklearn.feature_extraction.text import CountVectorizer, TfidfTransformer\n",
        "count_vect = CountVectorizer(stop_words='english')\n",
        "transformer = TfidfTransformer(norm='l2',sublinear_tf=True)\n",
        "# print(count_vect.vocabulary_)"
      ],
      "execution_count": 0,
      "outputs": []
    },
    {
      "cell_type": "code",
      "metadata": {
        "id": "Jsk6P5TXBcU_",
        "colab_type": "code",
        "colab": {},
        "outputId": "693eb70e-a892-43a1-f328-3c20b6cb3324"
      },
      "source": [
        "x_train_counts = count_vect.fit_transform(x_train)\n",
        "x_train_tfidf = transformer.fit_transform(x_train_counts)\n",
        "print(x_train_counts.shape)\n",
        "print(x_train_tfidf.shape)"
      ],
      "execution_count": 0,
      "outputs": [
        {
          "output_type": "stream",
          "text": [
            "(24128, 12275)\n",
            "(24128, 12275)\n"
          ],
          "name": "stdout"
        }
      ]
    },
    {
      "cell_type": "code",
      "metadata": {
        "id": "ppxh-z1aBcVG",
        "colab_type": "code",
        "colab": {},
        "outputId": "56a9652b-3e25-482f-b867-8419869682c2"
      },
      "source": [
        "x_test_counts = count_vect.transform(x_test)\n",
        "x_test_tfidf = transformer.transform(x_test_counts)\n",
        "print(x_test_counts.shape)\n",
        "print(x_test_tfidf.shape)"
      ],
      "execution_count": 0,
      "outputs": [
        {
          "output_type": "stream",
          "text": [
            "(6032, 12275)\n",
            "(6032, 12275)\n"
          ],
          "name": "stdout"
        }
      ]
    },
    {
      "cell_type": "code",
      "metadata": {
        "id": "1vnbwfFBBcVN",
        "colab_type": "code",
        "colab": {},
        "outputId": "01890897-e524-405d-c36c-d544ad2ee79a"
      },
      "source": [
        "from sklearn.ensemble import RandomForestClassifier\n",
        "model = RandomForestClassifier(n_estimators=50)\n",
        "model.fit(x_train_tfidf,y_train)"
      ],
      "execution_count": 0,
      "outputs": [
        {
          "output_type": "execute_result",
          "data": {
            "text/plain": [
              "RandomForestClassifier(bootstrap=True, class_weight=None, criterion='gini',\n",
              "            max_depth=None, max_features='auto', max_leaf_nodes=None,\n",
              "            min_impurity_decrease=0.0, min_impurity_split=None,\n",
              "            min_samples_leaf=1, min_samples_split=2,\n",
              "            min_weight_fraction_leaf=0.0, n_estimators=200, n_jobs=1,\n",
              "            oob_score=False, random_state=None, verbose=0,\n",
              "            warm_start=False)"
            ]
          },
          "metadata": {
            "tags": []
          },
          "execution_count": 92
        }
      ]
    },
    {
      "cell_type": "code",
      "metadata": {
        "id": "Mv9SK81FBcVT",
        "colab_type": "code",
        "colab": {}
      },
      "source": [
        "predictions = model.predict(x_test_tfidf)"
      ],
      "execution_count": 0,
      "outputs": []
    },
    {
      "cell_type": "code",
      "metadata": {
        "id": "HhGTR_46BcVZ",
        "colab_type": "code",
        "colab": {},
        "outputId": "5d862df9-06bf-43a0-aa05-0b46799e147e"
      },
      "source": [
        "from sklearn.metrics import confusion_matrix,f1_score\n",
        "confusion_matrix(y_test,predictions)"
      ],
      "execution_count": 0,
      "outputs": [
        {
          "output_type": "execute_result",
          "data": {
            "text/plain": [
              "array([[ 833,   20,  183,   46],\n",
              "       [  26,  513,  304,   32],\n",
              "       [  86,  124, 2659,  135],\n",
              "       [  48,   28,  317,  678]], dtype=int64)"
            ]
          },
          "metadata": {
            "tags": []
          },
          "execution_count": 94
        }
      ]
    },
    {
      "cell_type": "code",
      "metadata": {
        "id": "2p9oI2TXBcVf",
        "colab_type": "code",
        "colab": {},
        "outputId": "8e6dd6f1-a02f-42e1-9245-843515591b15"
      },
      "source": [
        "f1_score(y_test,predictions,average='macro')"
      ],
      "execution_count": 0,
      "outputs": [
        {
          "output_type": "execute_result",
          "data": {
            "text/plain": [
              "0.7435110295923117"
            ]
          },
          "metadata": {
            "tags": []
          },
          "execution_count": 95
        }
      ]
    },
    {
      "cell_type": "code",
      "metadata": {
        "id": "PxJTtxRoBcVl",
        "colab_type": "code",
        "colab": {}
      },
      "source": [
        "from sklearn.metrics import precision_score,recall_score"
      ],
      "execution_count": 0,
      "outputs": []
    },
    {
      "cell_type": "code",
      "metadata": {
        "id": "d4KfhTMjBcVv",
        "colab_type": "code",
        "colab": {},
        "outputId": "596bb86a-6016-4455-e9fb-0e3fe1792f6a"
      },
      "source": [
        "precision_score(y_test,predictions, average='macro')"
      ],
      "execution_count": 0,
      "outputs": [
        {
          "output_type": "execute_result",
          "data": {
            "text/plain": [
              "0.7791378338143373"
            ]
          },
          "metadata": {
            "tags": []
          },
          "execution_count": 97
        }
      ]
    },
    {
      "cell_type": "code",
      "metadata": {
        "id": "GJD41xLQBcV0",
        "colab_type": "code",
        "colab": {},
        "outputId": "8c319d38-a3b6-4c36-e49c-8b91a7fc4dd8"
      },
      "source": [
        "recall_score(y_test,predictions, average='macro')"
      ],
      "execution_count": 0,
      "outputs": [
        {
          "output_type": "execute_result",
          "data": {
            "text/plain": [
              "0.718590668679216"
            ]
          },
          "metadata": {
            "tags": []
          },
          "execution_count": 98
        }
      ]
    },
    {
      "cell_type": "code",
      "metadata": {
        "id": "qL9VyW8vBcV5",
        "colab_type": "code",
        "colab": {}
      },
      "source": [
        "test_data = pd.read_csv(\"devwithoutlabels.txt\",sep='\\t')"
      ],
      "execution_count": 0,
      "outputs": []
    },
    {
      "cell_type": "code",
      "metadata": {
        "id": "C-6yB7mKBcV-",
        "colab_type": "code",
        "colab": {},
        "outputId": "bc480ffb-046f-4d58-ac65-dc89bbb24515"
      },
      "source": [
        "test_data['single'] = test_data['turn1']+\" \"+test_data['turn2']+\" \"+test_data['turn3']\n",
        "# drop_features(['id','turn1','turn2','turn3'],test_data)\n",
        "test_data.head()"
      ],
      "execution_count": 0,
      "outputs": [
        {
          "output_type": "execute_result",
          "data": {
            "text/html": [
              "<div>\n",
              "<style scoped>\n",
              "    .dataframe tbody tr th:only-of-type {\n",
              "        vertical-align: middle;\n",
              "    }\n",
              "\n",
              "    .dataframe tbody tr th {\n",
              "        vertical-align: top;\n",
              "    }\n",
              "\n",
              "    .dataframe thead th {\n",
              "        text-align: right;\n",
              "    }\n",
              "</style>\n",
              "<table border=\"1\" class=\"dataframe\">\n",
              "  <thead>\n",
              "    <tr style=\"text-align: right;\">\n",
              "      <th></th>\n",
              "      <th>id</th>\n",
              "      <th>turn1</th>\n",
              "      <th>turn2</th>\n",
              "      <th>turn3</th>\n",
              "      <th>single</th>\n",
              "    </tr>\n",
              "  </thead>\n",
              "  <tbody>\n",
              "    <tr>\n",
              "      <th>0</th>\n",
              "      <td>0</td>\n",
              "      <td>Then dont ask me</td>\n",
              "      <td>YOURE A GUY NOT AS IF YOU WOULD UNDERSTAND</td>\n",
              "      <td>IM NOT A GUY FUCK OFF</td>\n",
              "      <td>Then dont ask me YOURE A GUY NOT AS IF YOU WOU...</td>\n",
              "    </tr>\n",
              "    <tr>\n",
              "      <th>1</th>\n",
              "      <td>1</td>\n",
              "      <td>Mixed things  such as??</td>\n",
              "      <td>the things you do.</td>\n",
              "      <td>Have you seen minions??</td>\n",
              "      <td>Mixed things  such as?? the things you do. Hav...</td>\n",
              "    </tr>\n",
              "    <tr>\n",
              "      <th>2</th>\n",
              "      <td>2</td>\n",
              "      <td>Today I'm very happy</td>\n",
              "      <td>and I'm happy for you ❤</td>\n",
              "      <td>I will be marry</td>\n",
              "      <td>Today I'm very happy and I'm happy for you ❤ I...</td>\n",
              "    </tr>\n",
              "    <tr>\n",
              "      <th>3</th>\n",
              "      <td>3</td>\n",
              "      <td>Woah bring me some</td>\n",
              "      <td>left it there oops</td>\n",
              "      <td>Brb</td>\n",
              "      <td>Woah bring me some left it there oops Brb</td>\n",
              "    </tr>\n",
              "    <tr>\n",
              "      <th>4</th>\n",
              "      <td>4</td>\n",
              "      <td>it is thooooo</td>\n",
              "      <td>I said soon master.</td>\n",
              "      <td>he is pressuring me</td>\n",
              "      <td>it is thooooo I said soon master. he is pressu...</td>\n",
              "    </tr>\n",
              "  </tbody>\n",
              "</table>\n",
              "</div>"
            ],
            "text/plain": [
              "   id                    turn1                                       turn2  \\\n",
              "0   0         Then dont ask me  YOURE A GUY NOT AS IF YOU WOULD UNDERSTAND   \n",
              "1   1  Mixed things  such as??                          the things you do.   \n",
              "2   2     Today I'm very happy                     and I'm happy for you ❤   \n",
              "3   3       Woah bring me some                          left it there oops   \n",
              "4   4            it is thooooo                         I said soon master.   \n",
              "\n",
              "                     turn3                                             single  \n",
              "0    IM NOT A GUY FUCK OFF  Then dont ask me YOURE A GUY NOT AS IF YOU WOU...  \n",
              "1  Have you seen minions??  Mixed things  such as?? the things you do. Hav...  \n",
              "2          I will be marry  Today I'm very happy and I'm happy for you ❤ I...  \n",
              "3                      Brb          Woah bring me some left it there oops Brb  \n",
              "4      he is pressuring me  it is thooooo I said soon master. he is pressu...  "
            ]
          },
          "metadata": {
            "tags": []
          },
          "execution_count": 100
        }
      ]
    },
    {
      "cell_type": "code",
      "metadata": {
        "id": "nIzVi5ZKBcWF",
        "colab_type": "code",
        "colab": {}
      },
      "source": [
        "train_counts = count_vect.fit_transform(train_data['single'])\n",
        "test_counts = count_vect.transform(test_data['single'])"
      ],
      "execution_count": 0,
      "outputs": []
    },
    {
      "cell_type": "code",
      "metadata": {
        "id": "a9RqtmIOBcWL",
        "colab_type": "code",
        "colab": {},
        "outputId": "aa0711d5-5494-4b0a-f764-8fbe6310ce8f"
      },
      "source": [
        "print(train_counts.shape)\n",
        "print(test_counts.shape)"
      ],
      "execution_count": 0,
      "outputs": [
        {
          "output_type": "stream",
          "text": [
            "(30160, 13968)\n",
            "(2755, 13968)\n"
          ],
          "name": "stdout"
        }
      ]
    },
    {
      "cell_type": "code",
      "metadata": {
        "id": "XHpkEGW2BcWQ",
        "colab_type": "code",
        "colab": {}
      },
      "source": [
        "train_tfidf = transformer.fit_transform(train_counts)\n",
        "test_tfidf = transformer.transform(test_counts)"
      ],
      "execution_count": 0,
      "outputs": []
    },
    {
      "cell_type": "code",
      "metadata": {
        "id": "nwvSy2yvBcWU",
        "colab_type": "code",
        "colab": {},
        "outputId": "b6ac12e6-a31f-483c-d14d-4169f3e539a4"
      },
      "source": [
        "print(train_tfidf.shape)\n",
        "print(test_tfidf.shape)"
      ],
      "execution_count": 0,
      "outputs": [
        {
          "output_type": "stream",
          "text": [
            "(30160, 13968)\n",
            "(2755, 13968)\n"
          ],
          "name": "stdout"
        }
      ]
    },
    {
      "cell_type": "code",
      "metadata": {
        "scrolled": true,
        "id": "YIoNxre4BcWZ",
        "colab_type": "code",
        "colab": {},
        "outputId": "8de266db-401b-46e9-e5fd-9d27e3323907"
      },
      "source": [
        "model.fit(train_tfidf,train_data['label'])"
      ],
      "execution_count": 0,
      "outputs": [
        {
          "output_type": "execute_result",
          "data": {
            "text/plain": [
              "RandomForestClassifier(bootstrap=True, class_weight=None, criterion='gini',\n",
              "            max_depth=None, max_features='auto', max_leaf_nodes=None,\n",
              "            min_impurity_decrease=0.0, min_impurity_split=None,\n",
              "            min_samples_leaf=1, min_samples_split=2,\n",
              "            min_weight_fraction_leaf=0.0, n_estimators=200, n_jobs=1,\n",
              "            oob_score=False, random_state=None, verbose=0,\n",
              "            warm_start=False)"
            ]
          },
          "metadata": {
            "tags": []
          },
          "execution_count": 81
        }
      ]
    },
    {
      "cell_type": "code",
      "metadata": {
        "id": "l4m90xpaBcWe",
        "colab_type": "code",
        "colab": {}
      },
      "source": [
        "predictions = model.predict(test_tfidf)"
      ],
      "execution_count": 0,
      "outputs": []
    },
    {
      "cell_type": "code",
      "metadata": {
        "id": "OXVQ_PjbBcWk",
        "colab_type": "code",
        "colab": {}
      },
      "source": [
        "final_result = pd.DataFrame({'turn1':test_data['turn1'],'turn2':test_data['turn2'],'turn3':test_data['turn3'],'label':predictions})\n",
        "final_result.index.names=['id']\n",
        "final_result.to_csv('test.txt',sep='\\t')"
      ],
      "execution_count": 0,
      "outputs": []
    }
  ]
}